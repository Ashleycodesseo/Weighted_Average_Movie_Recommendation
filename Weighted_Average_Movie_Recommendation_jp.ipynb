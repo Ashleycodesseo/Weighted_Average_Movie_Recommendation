{
 "cells": [
  {
   "cell_type": "code",
   "execution_count": null,
   "metadata": {},
   "outputs": [],
   "source": [
    "#Goal: Create an average weighted recommender system based from movies and credits\n",
    "#We are going to consider the voting average and vote count to determine recommendations"
   ]
  },
  {
   "cell_type": "code",
   "execution_count": null,
   "metadata": {},
   "outputs": [],
   "source": [
    "#Import Libraries\n",
    "import numpy as np\n",
    "import pandas as pd\n",
    "import matplotlib.pyplot as plt\n",
    "import seaborn as sns\n",
    "from sklearn.preprocessing import MinMaxScaler"
   ]
  },
  {
   "cell_type": "code",
   "execution_count": null,
   "metadata": {},
   "outputs": [],
   "source": [
    "credits= pd.read_csv(\"tmdb_5000_credits.csv\")\n"
   ]
  },
  {
   "cell_type": "code",
   "execution_count": null,
   "metadata": {},
   "outputs": [],
   "source": [
    "movies_df= pd.read_csv(\"tmdb_5000_movies.csv\")\n"
   ]
  },
  {
   "cell_type": "code",
   "execution_count": null,
   "metadata": {},
   "outputs": [],
   "source": [
    "print(display(credits.head()))\n"
   ]
  },
  {
   "cell_type": "code",
   "execution_count": null,
   "metadata": {},
   "outputs": [],
   "source": [
    "print(display(movies_df.head()))\n"
   ]
  },
  {
   "cell_type": "code",
   "execution_count": null,
   "metadata": {},
   "outputs": [],
   "source": [
    "print(\"Credits: \", credits.shape)\n",
    "print(\"Movies Dataframe: \", movies_df.shape)"
   ]
  },
  {
   "cell_type": "code",
   "execution_count": null,
   "metadata": {},
   "outputs": [],
   "source": [
    "#So what we want to do now is merge the movie and credits datasets id columns\n",
    "\n",
    "credits_column_renamed= credits.rename(index=str, columns={\"movie_id\": \"id\"})"
   ]
  },
  {
   "cell_type": "code",
   "execution_count": null,
   "metadata": {},
   "outputs": [],
   "source": [
    "movies_df_merge= movies_df.merge(credits_column_renamed, on='id')\n"
   ]
  },
  {
   "cell_type": "code",
   "execution_count": null,
   "metadata": {},
   "outputs": [],
   "source": [
    "print(display(movies_df_merge.head()))\n"
   ]
  },
  {
   "cell_type": "code",
   "execution_count": null,
   "metadata": {},
   "outputs": [],
   "source": [
    "#Now we need to drop the irrelevant features that will not help with algorithm\n",
    "movies_cleaned_df= movies_df_merge.drop(columns=['homepage', 'title_x', 'title_y', 'status', 'production_countries'])"
   ]
  },
  {
   "cell_type": "code",
   "execution_count": null,
   "metadata": {},
   "outputs": [],
   "source": [
    "print(display(movies_cleaned_df.head()))\n"
   ]
  },
  {
   "cell_type": "code",
   "execution_count": null,
   "metadata": {},
   "outputs": [],
   "source": [
    "movies_cleaned_df.info()\n"
   ]
  },
  {
   "cell_type": "code",
   "execution_count": null,
   "metadata": {},
   "outputs": [],
   "source": [
    "#We need to calculate the components to do the weighted average formula\n",
    "v= movies_cleaned_df['vote_count']\n",
    "R= movies_cleaned_df['vote_average']\n",
    "C= movies_cleaned_df['vote_average'].mean()\n",
    "m= movies_cleaned_df['vote_count'].quantile(0.70)\n",
    "#for quantile we're only considering movies that are more than 70th percentile or higher\n"
   ]
  },
  {
   "cell_type": "code",
   "execution_count": null,
   "metadata": {},
   "outputs": [],
   "source": [
    "#Now we can apply the formula to find out the weights\n",
    "movies_cleaned_df['weighted_average']= ((R*v)+(C*m))/(v+m)\n",
    "print(display(movies_cleaned_df.head()))"
   ]
  },
  {
   "cell_type": "code",
   "execution_count": null,
   "metadata": {},
   "outputs": [],
   "source": [
    "print(movies_cleaned_df.shape)"
   ]
  },
  {
   "cell_type": "code",
   "execution_count": null,
   "metadata": {},
   "outputs": [],
   "source": [
    "#So now let's sort the movies by their weighted average and popularity\n",
    "movie_sorted_ranking= movies_cleaned_df.sort_values('weighted_average', ascending=False)\n",
    "print(display(movie_sorted_ranking[['original_title', 'vote_count', 'vote_average', 'weighted_average', 'popularity']].head(20)))"
   ]
  },
  {
   "cell_type": "code",
   "execution_count": null,
   "metadata": {},
   "outputs": [],
   "source": [
    "#Now let's plot the weighted average results.\n",
    "weight_average= movie_sorted_ranking.sort_values('weighted_average', ascending=False)\n",
    "plt.figure(figsize=(12,6))\n",
    "axis1=sns.barplot(x=weight_average['weighted_average'].head(10), y=weight_average['original_title'].head(10))\n",
    "plt.xlim(4,10)\n",
    "plt.title('Best Movies by average votes', weight='bold')\n",
    "plt.xlabel('Weighted Average Score', weight='bold')\n",
    "plt.ylabel('Movie Title', weight='bold')\n",
    "plt.savefig('best_movies.png')"
   ]
  },
  {
   "cell_type": "code",
   "execution_count": null,
   "metadata": {},
   "outputs": [],
   "source": [
    "#We can also plot the data based on the most popular movies\n",
    "popularity=movie_sorted_ranking.sort_values('popularity', ascending=False)\n",
    "plt.figure(figsize=(12,6))\n",
    "ax=sns.barplot(x=popularity['popularity'].head(10), y=popularity['original_title'].head(10), data=popularity)\n",
    "plt.title('Most Popular by Votes', weight='bold')\n",
    "plt.xlabel('Score of Popularity', weight='bold')\n",
    "plt.ylabel('Movie Title', weight='bold')\n",
    "plt.savefig('best_popular_movies.png')"
   ]
  },
  {
   "cell_type": "code",
   "execution_count": null,
   "metadata": {},
   "outputs": [],
   "source": [
    "#So Now we can build our recommendation system based on scaled weighted avg and popularity score\n",
    "#Both popularity and weighted average will get 50% importance in the system\n",
    "scaling=MinMaxScaler()#use this function because the values between pop. and weight avg are way too different\n",
    "movie_scaled_df= scaling.fit_transform(movies_cleaned_df[['weighted_average', 'popularity']])\n",
    "movie_normalized_df=pd.DataFrame(movie_scaled_df, columns=['weighted_average','popularity'])\n",
    "print(display(movie_normalized_df.head()))"
   ]
  },
  {
   "cell_type": "code",
   "execution_count": null,
   "metadata": {},
   "outputs": [],
   "source": [
    "#Now let's create the columns that will be displayed that show recommended\n",
    "#movies based on the two scoring criteria\n",
    "movies_cleaned_df[['normalized_weight_average', 'normalized_popularity']]= movie_normalized_df\n",
    "print(display(movies_cleaned_df.head()))"
   ]
  },
  {
   "cell_type": "code",
   "execution_count": null,
   "metadata": {},
   "outputs": [],
   "source": [
    "#Let's now make the equation that will give equal priority to normalized\n",
    "#weighted average and to normalized popularity\n",
    "movies_cleaned_df['score']=movies_cleaned_df['normalized_weight_average']*0.5+movies_cleaned_df['normalized_popularity']*0.5\n",
    "movies_scored_df= movies_cleaned_df.sort_values(['score'], ascending=False)\n",
    "movies_scored_df[['original_title', 'normalized_weight_average', 'normalized_popularity', 'score']].head(20)"
   ]
  },
  {
   "cell_type": "code",
   "execution_count": null,
   "metadata": {},
   "outputs": [],
   "source": [
    "#Now we have a nice list of the top 20 movies that would be \n",
    "#recommended by both vote score and popularity\n",
    "#Let's finish off by plotting the data with the top 10\n",
    "scored_df= movies_scored_df.sort_values('score', ascending=False)\n",
    "plt.figure(figsize=(16,6))\n",
    "ax=sns.barplot(x=scored_df['score'].head(10), y=scored_df['original_title'].head(10), data=scored_df, palette='deep')\n",
    "plt.title('Best Rated and Most Popular Movie Blend', weight='bold')\n",
    "plt.xlabel('Score', weight='bold')\n",
    "plt.ylabel('Movie Title', weight='bold')\n",
    "plt.savefig('scored_movies.png')"
   ]
  }
 ],
 "metadata": {
  "kernelspec": {
   "display_name": "Python 3",
   "language": "python",
   "name": "python3"
  },
  "language_info": {
   "codemirror_mode": {
    "name": "ipython",
    "version": 3
   },
   "file_extension": ".py",
   "mimetype": "text/x-python",
   "name": "python",
   "nbconvert_exporter": "python",
   "pygments_lexer": "ipython3",
   "version": "3.7.4"
  }
 },
 "nbformat": 4,
 "nbformat_minor": 2
}
